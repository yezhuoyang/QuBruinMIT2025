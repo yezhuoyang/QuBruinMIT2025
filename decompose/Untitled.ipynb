{
 "cells": [
  {
   "cell_type": "code",
   "execution_count": 2,
   "id": "18779ff6-5fe9-44ec-977f-8fd5f3f214ca",
   "metadata": {},
   "outputs": [
    {
     "name": "stdout",
     "output_type": "stream",
     "text": [
      "\n",
      "Decomposed circuit (using only single-qubit gates and CZ):\n",
      "                                       \n",
      "q_0: ─■────────────────────────────────\n",
      "      │ ┌────────────┐   ┌────────────┐\n",
      "q_1: ─■─┤ U(π/2,0,π) ├─■─┤ U(π/2,0,π) ├\n",
      "        └────────────┘ │ └────────────┘\n",
      "q_2: ──────────────────■───────────────\n",
      "                                       \n"
     ]
    }
   ],
   "source": [
    "from qiskit import QuantumCircuit, transpile\n",
    "import numpy as np\n",
    "\n",
    "\n",
    "def example():\n",
    "    # Define theta\n",
    "    theta = np.pi / 4\n",
    "\n",
    "    # Create a 2-qubit circuit and add CRX(theta) with qubit 0 as control and qubit 1 as target\n",
    "    qc = QuantumCircuit(2)\n",
    "    qc.ccx(np.pi, 2, 1)\n",
    "\n",
    "    print(\"Original circuit:\")\n",
    "    print(qc.draw())\n",
    "\n",
    "    # Transpile to a basis of single-qubit (u) gates plus CZ\n",
    "    decomposed_qc = transpile(\n",
    "        qc,\n",
    "        basis_gates=['u', 'cz'],   # or e.g. ['rx', 'ry', 'rz', 'cz']\n",
    "        optimization_level=3\n",
    "    )\n",
    "\n",
    "    print(\"\\nDecomposed circuit (using only single-qubit gates and CZ):\")\n",
    "    print(decomposed_qc.draw())\n",
    "\n",
    "\n",
    "def decompose_from_file(filename):\n",
    "    qc = QuantumCircuit.from_qasm_file(filename)\n",
    "    # Transpile to a basis of single-qubit (u) gates plus CZ\n",
    "    decomposed_qc = transpile(\n",
    "        qc,\n",
    "        basis_gates=['u', 'cz'],   # or e.g. ['rx', 'ry', 'rz', 'cz']\n",
    "        optimization_level=3\n",
    "    )\n",
    "\n",
    "    print(\"\\nDecomposed circuit (using only single-qubit gates and CZ):\")\n",
    "    print(decomposed_qc.draw())    \n",
    "    #return qc\n",
    "\n",
    "\n",
    "\n",
    "def C1circuit1():\n",
    "    qc = QuantumCircuit.from_qasm_file(\"../qasm/1.1.qasm\")\n",
    "    # Transpile to a basis of single-qubit (u) gates plus CZ\n",
    "    decomposed_qc = transpile(\n",
    "        qc,\n",
    "        basis_gates=['u', 'cz'],   # or e.g. ['rx', 'ry', 'rz', 'cz']\n",
    "        optimization_level=3\n",
    "    )\n",
    "\n",
    "    print(\"\\nDecomposed circuit (using only single-qubit gates and CZ):\")\n",
    "    print(decomposed_qc.draw())    \n",
    "    #return qc\n",
    "\n",
    "\n",
    "\n",
    "\n",
    "\n",
    "\n",
    "\n",
    "\n",
    "\n",
    "if __name__ == \"__main__\":\n",
    "    C1circuit1()\n"
   ]
  },
  {
   "cell_type": "code",
   "execution_count": null,
   "id": "fd768a19-7c67-4908-802f-a5819268e3f6",
   "metadata": {},
   "outputs": [],
   "source": []
  }
 ],
 "metadata": {
  "kernelspec": {
   "display_name": "Python 3 (ipykernel)",
   "language": "python",
   "name": "python3"
  },
  "language_info": {
   "codemirror_mode": {
    "name": "ipython",
    "version": 3
   },
   "file_extension": ".py",
   "mimetype": "text/x-python",
   "name": "python",
   "nbconvert_exporter": "python",
   "pygments_lexer": "ipython3",
   "version": "3.11.10"
  }
 },
 "nbformat": 4,
 "nbformat_minor": 5
}
